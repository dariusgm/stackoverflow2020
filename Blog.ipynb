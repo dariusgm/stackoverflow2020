{
 "cells": [
  {
   "cell_type": "code",
   "execution_count": 1,
   "id": "olympic-shore",
   "metadata": {},
   "outputs": [],
   "source": [
    "import pandas as pd\n",
    "import numpy as np\n",
    "import os\n",
    "import seaborn as sns\n",
    "\n",
    "from sklearn.model_selection import train_test_split\n",
    "from sklearn.tree import DecisionTreeClassifier\n",
    "from sklearn.metrics import fbeta_score, confusion_matrix, r2_score\n",
    "from sklearn.linear_model import LinearRegression\n",
    "\n",
    "# set Figure size for seaborn plots\n",
    "sns.set(rc={'figure.figsize':(11,8)})"
   ]
  },
  {
   "cell_type": "markdown",
   "id": "about-jason",
   "metadata": {},
   "source": [
    "# Project: Writing a Data Science Blog Post"
   ]
  },
  {
   "cell_type": "markdown",
   "id": "determined-answer",
   "metadata": {},
   "source": [
    "**Motivation:** I thought it may a interisting outcome to share in my company, given the fact that I can predict their job satisfaction based on the tools and languages they are all using.\n",
    "\n",
    "**Acknowledgement:** Data used for this project is available on stackoverflow using the following link: https://insights.stackoverflow.com/survey/\n",
    "\n",
    "No third party code from other students of udacity was used while creating this project. Images are created by my own."
   ]
  },
  {
   "cell_type": "markdown",
   "id": "optional-passage",
   "metadata": {},
   "source": [
    "## Section 1: Business Understanding"
   ]
  },
  {
   "cell_type": "markdown",
   "id": "varied-rwanda",
   "metadata": {},
   "source": [
    "### Brief description\n",
    "\n",
    "Can you be more happy in a different programming language? In this blog post I will try to provide that this is acually true, given the data of the stackoverflow survey of 2020.\n",
    "\n",
    "#### Question 1:\n",
    "**What is the general job satisfaction, more positive or more negative?**\n",
    "\n",
    "#### Qurstion 2:\n",
    "**Is the job satisfaction correlated with some programming language, framework or platform?**\n",
    "\n",
    "#### Question 3:\n",
    "**Are we able to predict a job satisfaction based on this data?**"
   ]
  },
  {
   "cell_type": "markdown",
   "id": "natural-suggestion",
   "metadata": {},
   "source": [
    "## Section 2: Data Understanding"
   ]
  },
  {
   "cell_type": "markdown",
   "id": "rural-retailer",
   "metadata": {},
   "source": [
    "### Collect initial data\n",
    "\n",
    "The data is available from following url: https://insights.stackoverflow.com/survey/\n",
    "\n",
    "### Describe data"
   ]
  },
  {
   "cell_type": "code",
   "execution_count": 2,
   "id": "accurate-passage",
   "metadata": {},
   "outputs": [],
   "source": [
    "# set data path\n",
    "data = os.path.join(\"developer_survey_2020\", \"survey_results_public.csv\")"
   ]
  },
  {
   "cell_type": "code",
   "execution_count": 3,
   "id": "controversial-baghdad",
   "metadata": {},
   "outputs": [],
   "source": [
    "# read csv using pandas\n",
    "df = pd.read_csv(data)"
   ]
  },
  {
   "cell_type": "markdown",
   "id": "forced-stress",
   "metadata": {},
   "source": [
    "The data is saved in csv format."
   ]
  },
  {
   "cell_type": "code",
   "execution_count": 4,
   "id": "located-covering",
   "metadata": {},
   "outputs": [
    {
     "data": {
      "text/plain": [
       "64461"
      ]
     },
     "execution_count": 4,
     "metadata": {},
     "output_type": "execute_result"
    }
   ],
   "source": [
    "# total size\n",
    "len(df)"
   ]
  },
  {
   "cell_type": "markdown",
   "id": "silent-issue",
   "metadata": {},
   "source": [
    "The Dataset contains of 64461 responses for the survey"
   ]
  },
  {
   "cell_type": "code",
   "execution_count": 5,
   "id": "advisory-division",
   "metadata": {},
   "outputs": [
    {
     "data": {
      "text/plain": [
       "45194"
      ]
     },
     "execution_count": 5,
     "metadata": {},
     "output_type": "execute_result"
    }
   ],
   "source": [
    "# we only care about data with job satisfaction, other rows are filtered out\n",
    "len(df[~ df['JobSat'].isnull()])"
   ]
  },
  {
   "cell_type": "markdown",
   "id": "early-watch",
   "metadata": {},
   "source": [
    "45194 responses reference to a particular job satisfaction, resulting in 19267 missing responses for a job satisfaction."
   ]
  },
  {
   "cell_type": "code",
   "execution_count": 6,
   "id": "greenhouse-appreciation",
   "metadata": {},
   "outputs": [
    {
     "data": {
      "text/plain": [
       "['Respondent',\n",
       " 'MainBranch',\n",
       " 'Hobbyist',\n",
       " 'Age',\n",
       " 'Age1stCode',\n",
       " 'CompFreq',\n",
       " 'CompTotal',\n",
       " 'ConvertedComp',\n",
       " 'Country',\n",
       " 'CurrencyDesc',\n",
       " 'CurrencySymbol',\n",
       " 'DatabaseDesireNextYear',\n",
       " 'DatabaseWorkedWith',\n",
       " 'DevType',\n",
       " 'EdLevel',\n",
       " 'Employment',\n",
       " 'Ethnicity',\n",
       " 'Gender',\n",
       " 'JobFactors',\n",
       " 'JobSat',\n",
       " 'JobSeek',\n",
       " 'LanguageDesireNextYear',\n",
       " 'LanguageWorkedWith',\n",
       " 'MiscTechDesireNextYear',\n",
       " 'MiscTechWorkedWith',\n",
       " 'NEWCollabToolsDesireNextYear',\n",
       " 'NEWCollabToolsWorkedWith',\n",
       " 'NEWDevOps',\n",
       " 'NEWDevOpsImpt',\n",
       " 'NEWEdImpt',\n",
       " 'NEWJobHunt',\n",
       " 'NEWJobHuntResearch',\n",
       " 'NEWLearn',\n",
       " 'NEWOffTopic',\n",
       " 'NEWOnboardGood',\n",
       " 'NEWOtherComms',\n",
       " 'NEWOvertime',\n",
       " 'NEWPurchaseResearch',\n",
       " 'NEWPurpleLink',\n",
       " 'NEWSOSites',\n",
       " 'NEWStuck',\n",
       " 'OpSys',\n",
       " 'OrgSize',\n",
       " 'PlatformDesireNextYear',\n",
       " 'PlatformWorkedWith',\n",
       " 'PurchaseWhat',\n",
       " 'Sexuality',\n",
       " 'SOAccount',\n",
       " 'SOComm',\n",
       " 'SOPartFreq',\n",
       " 'SOVisitFreq',\n",
       " 'SurveyEase',\n",
       " 'SurveyLength',\n",
       " 'Trans',\n",
       " 'UndergradMajor',\n",
       " 'WebframeDesireNextYear',\n",
       " 'WebframeWorkedWith',\n",
       " 'WelcomeChange',\n",
       " 'WorkWeekHrs',\n",
       " 'YearsCode',\n",
       " 'YearsCodePro']"
      ]
     },
     "execution_count": 6,
     "metadata": {},
     "output_type": "execute_result"
    }
   ],
   "source": [
    "list(df.columns)"
   ]
  },
  {
   "cell_type": "markdown",
   "id": "silver-minutes",
   "metadata": {},
   "source": [
    "61 columns are present in the data where `JobSat` is the most interisting column for us in this analysis."
   ]
  },
  {
   "cell_type": "code",
   "execution_count": 7,
   "id": "pending-breast",
   "metadata": {
    "scrolled": true
   },
   "outputs": [
    {
     "data": {
      "text/plain": [
       "[dtype('int64'),\n",
       " dtype('O'),\n",
       " dtype('O'),\n",
       " dtype('float64'),\n",
       " dtype('O'),\n",
       " dtype('O'),\n",
       " dtype('float64'),\n",
       " dtype('float64'),\n",
       " dtype('O'),\n",
       " dtype('O'),\n",
       " dtype('O'),\n",
       " dtype('O'),\n",
       " dtype('O'),\n",
       " dtype('O'),\n",
       " dtype('O'),\n",
       " dtype('O'),\n",
       " dtype('O'),\n",
       " dtype('O'),\n",
       " dtype('O'),\n",
       " dtype('O'),\n",
       " dtype('O'),\n",
       " dtype('O'),\n",
       " dtype('O'),\n",
       " dtype('O'),\n",
       " dtype('O'),\n",
       " dtype('O'),\n",
       " dtype('O'),\n",
       " dtype('O'),\n",
       " dtype('O'),\n",
       " dtype('O'),\n",
       " dtype('O'),\n",
       " dtype('O'),\n",
       " dtype('O'),\n",
       " dtype('O'),\n",
       " dtype('O'),\n",
       " dtype('O'),\n",
       " dtype('O'),\n",
       " dtype('O'),\n",
       " dtype('O'),\n",
       " dtype('O'),\n",
       " dtype('O'),\n",
       " dtype('O'),\n",
       " dtype('O'),\n",
       " dtype('O'),\n",
       " dtype('O'),\n",
       " dtype('O'),\n",
       " dtype('O'),\n",
       " dtype('O'),\n",
       " dtype('O'),\n",
       " dtype('O'),\n",
       " dtype('O'),\n",
       " dtype('O'),\n",
       " dtype('O'),\n",
       " dtype('O'),\n",
       " dtype('O'),\n",
       " dtype('O'),\n",
       " dtype('O'),\n",
       " dtype('O'),\n",
       " dtype('float64'),\n",
       " dtype('O'),\n",
       " dtype('O')]"
      ]
     },
     "execution_count": 7,
     "metadata": {},
     "output_type": "execute_result"
    }
   ],
   "source": [
    "list(df.dtypes)"
   ]
  },
  {
   "cell_type": "markdown",
   "id": "caroline-steam",
   "metadata": {},
   "source": [
    "Most of the column contain strings, some float and only 1 contains int values."
   ]
  },
  {
   "cell_type": "code",
   "execution_count": 8,
   "id": "effective-thesis",
   "metadata": {},
   "outputs": [
    {
     "data": {
      "text/plain": [
       "{'Neither satisfied nor dissatisfied',\n",
       " 'Slightly dissatisfied',\n",
       " 'Slightly satisfied',\n",
       " 'Very dissatisfied',\n",
       " 'Very satisfied',\n",
       " nan}"
      ]
     },
     "execution_count": 8,
     "metadata": {},
     "output_type": "execute_result"
    }
   ],
   "source": [
    "set(df['JobSat'])"
   ]
  },
  {
   "cell_type": "markdown",
   "id": "automatic-oriental",
   "metadata": {},
   "source": [
    "The Job satisfaction can have 5 different values. From the description of, we can assume that the values have an order: \n",
    "* Very dissatisfied (negative) \n",
    "* Slightly dissatisfied ( light negative)\n",
    "* Neither satisfied nor dissatisfied (neutral)\n",
    "* Slightly satisfied (light positive)\n",
    "* Very satisfied (postive)"
   ]
  },
  {
   "cell_type": "markdown",
   "id": "boolean-lindsay",
   "metadata": {},
   "source": [
    "## Section 3: Data Preparation\n",
    "### Select Data"
   ]
  },
  {
   "cell_type": "code",
   "execution_count": 9,
   "id": "federal-greensboro",
   "metadata": {},
   "outputs": [],
   "source": [
    "df = df[~ df['JobSat'].isnull()]"
   ]
  },
  {
   "cell_type": "markdown",
   "id": "bored-steal",
   "metadata": {},
   "source": [
    "we are only interisted in all responses of the survey with any value in `JobSat` - this is our basement for any further analysis."
   ]
  },
  {
   "cell_type": "markdown",
   "id": "laden-fight",
   "metadata": {},
   "source": [
    "### Clean data"
   ]
  },
  {
   "cell_type": "markdown",
   "id": "isolated-marathon",
   "metadata": {},
   "source": [
    "removing all values from `JobSat` containing **null** as value, cleaned our data already"
   ]
  },
  {
   "cell_type": "markdown",
   "id": "separate-singer",
   "metadata": {},
   "source": [
    "### Construct data"
   ]
  },
  {
   "cell_type": "markdown",
   "id": "simple-china",
   "metadata": {},
   "source": [
    "We will be using this function to generate new columns out of the existing ones, in order to enable a training on it."
   ]
  },
  {
   "cell_type": "code",
   "execution_count": 10,
   "id": "flexible-canon",
   "metadata": {},
   "outputs": [],
   "source": [
    "def to_list(elements) -> list:\n",
    "    '''\n",
    "    Return a list of elements that where separated by \";\"\n",
    "\n",
    "    :param elements: the (potencial) elements to convert to a list, can be (str) or (np.nan)\n",
    "    :returns: (list[str]) list of elements with 0 or more elements\n",
    "    \n",
    "    Example:\n",
    "    >>> import numpy as np; to_list(np.nan)\n",
    "    []\n",
    "    \n",
    "    >>> to_list(\"c++;c#\")\n",
    "    [\"c++\", \"c#\"]\n",
    "    '''\n",
    "\n",
    "    if type(elements) != str: # assuming nan\n",
    "        return []\n",
    "    else:\n",
    "        return elements.split(\";\")"
   ]
  },
  {
   "cell_type": "code",
   "execution_count": 11,
   "id": "general-season",
   "metadata": {},
   "outputs": [],
   "source": [
    "def df_to_features(df: pd.DataFrame, column: str) -> list:\n",
    "    '''\n",
    "    Explode a column of a pd.DataFrame containing several features\n",
    "    \n",
    "    :param df: (pd.DataFrame) DataFrame that have the column to explode\n",
    "    :param column: (str) The name of the column with the values to explode\n",
    "    \n",
    "    :returns: (list[dict]) A list of dicts that have a true value for a particular line\n",
    "    \n",
    "    Example:\n",
    "    >>> df_to_features(pd.DataFrame([{'a': 'b;c'}]), 'a')\n",
    "    [{'b': 1, 'c': 1}]\n",
    "    '''\n",
    "    \n",
    "    records = []\n",
    "    for index, row in df.iterrows():\n",
    "        line = {}\n",
    "        elements = to_list(row[column])\n",
    "        if len(elements)>0:\n",
    "            for e in elements:\n",
    "                line[e] = 1\n",
    "                    \n",
    "        records.append(line)\n",
    "        \n",
    "    return records"
   ]
  },
  {
   "cell_type": "code",
   "execution_count": 12,
   "id": "premier-newport",
   "metadata": {},
   "outputs": [],
   "source": [
    "def df_extract_features(df: pd.DataFrame, column: str) -> pd.DataFrame:\n",
    "    '''\n",
    "    Extract features of a particular column and returns the filled pd.DataFrame back\n",
    "    \n",
    "    :param df: (pd.DataFrame) The DataFrame with the data to be extracted\n",
    "    :param column: (str) The column with the data to extract\n",
    "    :returns: pd.DataFrame with feature columns, filled missing values with 0 \n",
    "    \n",
    "    Example:\n",
    "    >>> df_extract_features(pd.DataFrame([{'a': 'b;c'}, {'a': 'c'}]), 'a')\n",
    "    pd.DataFrame([{'b': 1.0, 'c': 1}, {'b': 0.0, 'c': 1}])\n",
    "    '''\n",
    "    return pd.DataFrame(df_to_features(df, column)).fillna(0.)"
   ]
  },
  {
   "cell_type": "code",
   "execution_count": 13,
   "id": "adjusted-panel",
   "metadata": {},
   "outputs": [],
   "source": [
    "job_satisfaction_df = df_extract_features(df, 'JobSat')"
   ]
  },
  {
   "cell_type": "code",
   "execution_count": 14,
   "id": "collaborative-metadata",
   "metadata": {},
   "outputs": [
    {
     "data": {
      "text/html": [
       "<div>\n",
       "<style scoped>\n",
       "    .dataframe tbody tr th:only-of-type {\n",
       "        vertical-align: middle;\n",
       "    }\n",
       "\n",
       "    .dataframe tbody tr th {\n",
       "        vertical-align: top;\n",
       "    }\n",
       "\n",
       "    .dataframe thead th {\n",
       "        text-align: right;\n",
       "    }\n",
       "</style>\n",
       "<table border=\"1\" class=\"dataframe\">\n",
       "  <thead>\n",
       "    <tr style=\"text-align: right;\">\n",
       "      <th></th>\n",
       "      <th>Slightly satisfied</th>\n",
       "      <th>Very dissatisfied</th>\n",
       "      <th>Slightly dissatisfied</th>\n",
       "      <th>Very satisfied</th>\n",
       "      <th>Neither satisfied nor dissatisfied</th>\n",
       "    </tr>\n",
       "  </thead>\n",
       "  <tbody>\n",
       "    <tr>\n",
       "      <th>0</th>\n",
       "      <td>1.0</td>\n",
       "      <td>0.0</td>\n",
       "      <td>0.0</td>\n",
       "      <td>0.0</td>\n",
       "      <td>0.0</td>\n",
       "    </tr>\n",
       "    <tr>\n",
       "      <th>1</th>\n",
       "      <td>0.0</td>\n",
       "      <td>1.0</td>\n",
       "      <td>0.0</td>\n",
       "      <td>0.0</td>\n",
       "      <td>0.0</td>\n",
       "    </tr>\n",
       "    <tr>\n",
       "      <th>2</th>\n",
       "      <td>0.0</td>\n",
       "      <td>0.0</td>\n",
       "      <td>1.0</td>\n",
       "      <td>0.0</td>\n",
       "      <td>0.0</td>\n",
       "    </tr>\n",
       "    <tr>\n",
       "      <th>3</th>\n",
       "      <td>1.0</td>\n",
       "      <td>0.0</td>\n",
       "      <td>0.0</td>\n",
       "      <td>0.0</td>\n",
       "      <td>0.0</td>\n",
       "    </tr>\n",
       "    <tr>\n",
       "      <th>4</th>\n",
       "      <td>0.0</td>\n",
       "      <td>0.0</td>\n",
       "      <td>0.0</td>\n",
       "      <td>1.0</td>\n",
       "      <td>0.0</td>\n",
       "    </tr>\n",
       "  </tbody>\n",
       "</table>\n",
       "</div>"
      ],
      "text/plain": [
       "   Slightly satisfied  Very dissatisfied  Slightly dissatisfied  \\\n",
       "0                 1.0                0.0                    0.0   \n",
       "1                 0.0                1.0                    0.0   \n",
       "2                 0.0                0.0                    1.0   \n",
       "3                 1.0                0.0                    0.0   \n",
       "4                 0.0                0.0                    0.0   \n",
       "\n",
       "   Very satisfied  Neither satisfied nor dissatisfied  \n",
       "0             0.0                                 0.0  \n",
       "1             0.0                                 0.0  \n",
       "2             0.0                                 0.0  \n",
       "3             0.0                                 0.0  \n",
       "4             1.0                                 0.0  "
      ]
     },
     "execution_count": 14,
     "metadata": {},
     "output_type": "execute_result"
    }
   ],
   "source": [
    "job_satisfaction_df.head()"
   ]
  },
  {
   "cell_type": "markdown",
   "id": "persistent-congress",
   "metadata": {},
   "source": [
    "We have created a dataframe that converted the string value from the column `JobSat` into 5 columns, where only one column have a **1** and all other have a **0**. "
   ]
  },
  {
   "cell_type": "code",
   "execution_count": 15,
   "id": "broadband-animation",
   "metadata": {},
   "outputs": [
    {
     "data": {
      "text/html": [
       "<div>\n",
       "<style scoped>\n",
       "    .dataframe tbody tr th:only-of-type {\n",
       "        vertical-align: middle;\n",
       "    }\n",
       "\n",
       "    .dataframe tbody tr th {\n",
       "        vertical-align: top;\n",
       "    }\n",
       "\n",
       "    .dataframe thead th {\n",
       "        text-align: right;\n",
       "    }\n",
       "</style>\n",
       "<table border=\"1\" class=\"dataframe\">\n",
       "  <thead>\n",
       "    <tr style=\"text-align: right;\">\n",
       "      <th></th>\n",
       "      <th>Windows</th>\n",
       "      <th>iOS</th>\n",
       "      <th>Android</th>\n",
       "      <th>Docker</th>\n",
       "      <th>WordPress</th>\n",
       "      <th>Linux</th>\n",
       "      <th>Raspberry Pi</th>\n",
       "      <th>AWS</th>\n",
       "      <th>Heroku</th>\n",
       "      <th>MacOS</th>\n",
       "      <th>Google Cloud Platform</th>\n",
       "      <th>Kubernetes</th>\n",
       "      <th>Arduino</th>\n",
       "      <th>Slack Apps and Integrations</th>\n",
       "      <th>Microsoft Azure</th>\n",
       "      <th>IBM Cloud or Watson</th>\n",
       "    </tr>\n",
       "  </thead>\n",
       "  <tbody>\n",
       "    <tr>\n",
       "      <th>0</th>\n",
       "      <td>1.0</td>\n",
       "      <td>0.0</td>\n",
       "      <td>0.0</td>\n",
       "      <td>0.0</td>\n",
       "      <td>0.0</td>\n",
       "      <td>0.0</td>\n",
       "      <td>0.0</td>\n",
       "      <td>0.0</td>\n",
       "      <td>0.0</td>\n",
       "      <td>0.0</td>\n",
       "      <td>0.0</td>\n",
       "      <td>0.0</td>\n",
       "      <td>0.0</td>\n",
       "      <td>0.0</td>\n",
       "      <td>0.0</td>\n",
       "      <td>0.0</td>\n",
       "    </tr>\n",
       "    <tr>\n",
       "      <th>1</th>\n",
       "      <td>0.0</td>\n",
       "      <td>1.0</td>\n",
       "      <td>0.0</td>\n",
       "      <td>0.0</td>\n",
       "      <td>0.0</td>\n",
       "      <td>0.0</td>\n",
       "      <td>0.0</td>\n",
       "      <td>0.0</td>\n",
       "      <td>0.0</td>\n",
       "      <td>0.0</td>\n",
       "      <td>0.0</td>\n",
       "      <td>0.0</td>\n",
       "      <td>0.0</td>\n",
       "      <td>0.0</td>\n",
       "      <td>0.0</td>\n",
       "      <td>0.0</td>\n",
       "    </tr>\n",
       "    <tr>\n",
       "      <th>2</th>\n",
       "      <td>0.0</td>\n",
       "      <td>0.0</td>\n",
       "      <td>0.0</td>\n",
       "      <td>0.0</td>\n",
       "      <td>0.0</td>\n",
       "      <td>0.0</td>\n",
       "      <td>0.0</td>\n",
       "      <td>0.0</td>\n",
       "      <td>0.0</td>\n",
       "      <td>0.0</td>\n",
       "      <td>0.0</td>\n",
       "      <td>0.0</td>\n",
       "      <td>0.0</td>\n",
       "      <td>0.0</td>\n",
       "      <td>0.0</td>\n",
       "      <td>0.0</td>\n",
       "    </tr>\n",
       "    <tr>\n",
       "      <th>3</th>\n",
       "      <td>0.0</td>\n",
       "      <td>0.0</td>\n",
       "      <td>1.0</td>\n",
       "      <td>1.0</td>\n",
       "      <td>1.0</td>\n",
       "      <td>0.0</td>\n",
       "      <td>0.0</td>\n",
       "      <td>0.0</td>\n",
       "      <td>0.0</td>\n",
       "      <td>0.0</td>\n",
       "      <td>0.0</td>\n",
       "      <td>0.0</td>\n",
       "      <td>0.0</td>\n",
       "      <td>0.0</td>\n",
       "      <td>0.0</td>\n",
       "      <td>0.0</td>\n",
       "    </tr>\n",
       "    <tr>\n",
       "      <th>4</th>\n",
       "      <td>0.0</td>\n",
       "      <td>0.0</td>\n",
       "      <td>0.0</td>\n",
       "      <td>0.0</td>\n",
       "      <td>0.0</td>\n",
       "      <td>0.0</td>\n",
       "      <td>0.0</td>\n",
       "      <td>0.0</td>\n",
       "      <td>0.0</td>\n",
       "      <td>0.0</td>\n",
       "      <td>0.0</td>\n",
       "      <td>0.0</td>\n",
       "      <td>0.0</td>\n",
       "      <td>0.0</td>\n",
       "      <td>0.0</td>\n",
       "      <td>0.0</td>\n",
       "    </tr>\n",
       "  </tbody>\n",
       "</table>\n",
       "</div>"
      ],
      "text/plain": [
       "   Windows  iOS  Android  Docker  WordPress  Linux  Raspberry Pi  AWS  Heroku  \\\n",
       "0      1.0  0.0      0.0     0.0        0.0    0.0           0.0  0.0     0.0   \n",
       "1      0.0  1.0      0.0     0.0        0.0    0.0           0.0  0.0     0.0   \n",
       "2      0.0  0.0      0.0     0.0        0.0    0.0           0.0  0.0     0.0   \n",
       "3      0.0  0.0      1.0     1.0        1.0    0.0           0.0  0.0     0.0   \n",
       "4      0.0  0.0      0.0     0.0        0.0    0.0           0.0  0.0     0.0   \n",
       "\n",
       "   MacOS  Google Cloud Platform  Kubernetes  Arduino  \\\n",
       "0    0.0                    0.0         0.0      0.0   \n",
       "1    0.0                    0.0         0.0      0.0   \n",
       "2    0.0                    0.0         0.0      0.0   \n",
       "3    0.0                    0.0         0.0      0.0   \n",
       "4    0.0                    0.0         0.0      0.0   \n",
       "\n",
       "   Slack Apps and Integrations  Microsoft Azure  IBM Cloud or Watson  \n",
       "0                          0.0              0.0                  0.0  \n",
       "1                          0.0              0.0                  0.0  \n",
       "2                          0.0              0.0                  0.0  \n",
       "3                          0.0              0.0                  0.0  \n",
       "4                          0.0              0.0                  0.0  "
      ]
     },
     "execution_count": 15,
     "metadata": {},
     "output_type": "execute_result"
    }
   ],
   "source": [
    "platform_features_df = df_extract_features(df, 'PlatformWorkedWith')\n",
    "platform_features_df.head()"
   ]
  },
  {
   "cell_type": "markdown",
   "id": "preliminary-browser",
   "metadata": {},
   "source": [
    "We extracted the relevant data for the source column `PlatformWorkedWith`. In contrast to `JobSat`, several columns can have a value of **1**."
   ]
  },
  {
   "cell_type": "code",
   "execution_count": 16,
   "id": "annoying-borough",
   "metadata": {},
   "outputs": [
    {
     "data": {
      "text/html": [
       "<div>\n",
       "<style scoped>\n",
       "    .dataframe tbody tr th:only-of-type {\n",
       "        vertical-align: middle;\n",
       "    }\n",
       "\n",
       "    .dataframe tbody tr th {\n",
       "        vertical-align: top;\n",
       "    }\n",
       "\n",
       "    .dataframe thead th {\n",
       "        text-align: right;\n",
       "    }\n",
       "</style>\n",
       "<table border=\"1\" class=\"dataframe\">\n",
       "  <thead>\n",
       "    <tr style=\"text-align: right;\">\n",
       "      <th></th>\n",
       "      <th>.NET</th>\n",
       "      <th>.NET Core</th>\n",
       "      <th>React Native</th>\n",
       "      <th>Ansible</th>\n",
       "      <th>Pandas</th>\n",
       "      <th>Node.js</th>\n",
       "      <th>TensorFlow</th>\n",
       "      <th>Torch/PyTorch</th>\n",
       "      <th>Unity 3D</th>\n",
       "      <th>Teraform</th>\n",
       "      <th>Hadoop</th>\n",
       "      <th>Flutter</th>\n",
       "      <th>Cordova</th>\n",
       "      <th>Keras</th>\n",
       "      <th>Xamarin</th>\n",
       "      <th>Unreal Engine</th>\n",
       "      <th>Apache Spark</th>\n",
       "      <th>Puppet</th>\n",
       "      <th>Chef</th>\n",
       "    </tr>\n",
       "  </thead>\n",
       "  <tbody>\n",
       "    <tr>\n",
       "      <th>0</th>\n",
       "      <td>1.0</td>\n",
       "      <td>1.0</td>\n",
       "      <td>0.0</td>\n",
       "      <td>0.0</td>\n",
       "      <td>0.0</td>\n",
       "      <td>0.0</td>\n",
       "      <td>0.0</td>\n",
       "      <td>0.0</td>\n",
       "      <td>0.0</td>\n",
       "      <td>0.0</td>\n",
       "      <td>0.0</td>\n",
       "      <td>0.0</td>\n",
       "      <td>0.0</td>\n",
       "      <td>0.0</td>\n",
       "      <td>0.0</td>\n",
       "      <td>0.0</td>\n",
       "      <td>0.0</td>\n",
       "      <td>0.0</td>\n",
       "      <td>0.0</td>\n",
       "    </tr>\n",
       "    <tr>\n",
       "      <th>1</th>\n",
       "      <td>0.0</td>\n",
       "      <td>0.0</td>\n",
       "      <td>1.0</td>\n",
       "      <td>0.0</td>\n",
       "      <td>0.0</td>\n",
       "      <td>0.0</td>\n",
       "      <td>0.0</td>\n",
       "      <td>0.0</td>\n",
       "      <td>0.0</td>\n",
       "      <td>0.0</td>\n",
       "      <td>0.0</td>\n",
       "      <td>0.0</td>\n",
       "      <td>0.0</td>\n",
       "      <td>0.0</td>\n",
       "      <td>0.0</td>\n",
       "      <td>0.0</td>\n",
       "      <td>0.0</td>\n",
       "      <td>0.0</td>\n",
       "      <td>0.0</td>\n",
       "    </tr>\n",
       "    <tr>\n",
       "      <th>2</th>\n",
       "      <td>0.0</td>\n",
       "      <td>0.0</td>\n",
       "      <td>0.0</td>\n",
       "      <td>0.0</td>\n",
       "      <td>0.0</td>\n",
       "      <td>0.0</td>\n",
       "      <td>0.0</td>\n",
       "      <td>0.0</td>\n",
       "      <td>0.0</td>\n",
       "      <td>0.0</td>\n",
       "      <td>0.0</td>\n",
       "      <td>0.0</td>\n",
       "      <td>0.0</td>\n",
       "      <td>0.0</td>\n",
       "      <td>0.0</td>\n",
       "      <td>0.0</td>\n",
       "      <td>0.0</td>\n",
       "      <td>0.0</td>\n",
       "      <td>0.0</td>\n",
       "    </tr>\n",
       "    <tr>\n",
       "      <th>3</th>\n",
       "      <td>0.0</td>\n",
       "      <td>0.0</td>\n",
       "      <td>0.0</td>\n",
       "      <td>0.0</td>\n",
       "      <td>0.0</td>\n",
       "      <td>0.0</td>\n",
       "      <td>0.0</td>\n",
       "      <td>0.0</td>\n",
       "      <td>0.0</td>\n",
       "      <td>0.0</td>\n",
       "      <td>0.0</td>\n",
       "      <td>0.0</td>\n",
       "      <td>0.0</td>\n",
       "      <td>0.0</td>\n",
       "      <td>0.0</td>\n",
       "      <td>0.0</td>\n",
       "      <td>0.0</td>\n",
       "      <td>0.0</td>\n",
       "      <td>0.0</td>\n",
       "    </tr>\n",
       "    <tr>\n",
       "      <th>4</th>\n",
       "      <td>0.0</td>\n",
       "      <td>0.0</td>\n",
       "      <td>0.0</td>\n",
       "      <td>0.0</td>\n",
       "      <td>0.0</td>\n",
       "      <td>0.0</td>\n",
       "      <td>0.0</td>\n",
       "      <td>0.0</td>\n",
       "      <td>0.0</td>\n",
       "      <td>0.0</td>\n",
       "      <td>0.0</td>\n",
       "      <td>0.0</td>\n",
       "      <td>0.0</td>\n",
       "      <td>0.0</td>\n",
       "      <td>0.0</td>\n",
       "      <td>0.0</td>\n",
       "      <td>0.0</td>\n",
       "      <td>0.0</td>\n",
       "      <td>0.0</td>\n",
       "    </tr>\n",
       "  </tbody>\n",
       "</table>\n",
       "</div>"
      ],
      "text/plain": [
       "   .NET  .NET Core  React Native  Ansible  Pandas  Node.js  TensorFlow  \\\n",
       "0   1.0        1.0           0.0      0.0     0.0      0.0         0.0   \n",
       "1   0.0        0.0           1.0      0.0     0.0      0.0         0.0   \n",
       "2   0.0        0.0           0.0      0.0     0.0      0.0         0.0   \n",
       "3   0.0        0.0           0.0      0.0     0.0      0.0         0.0   \n",
       "4   0.0        0.0           0.0      0.0     0.0      0.0         0.0   \n",
       "\n",
       "   Torch/PyTorch  Unity 3D  Teraform  Hadoop  Flutter  Cordova  Keras  \\\n",
       "0            0.0       0.0       0.0     0.0      0.0      0.0    0.0   \n",
       "1            0.0       0.0       0.0     0.0      0.0      0.0    0.0   \n",
       "2            0.0       0.0       0.0     0.0      0.0      0.0    0.0   \n",
       "3            0.0       0.0       0.0     0.0      0.0      0.0    0.0   \n",
       "4            0.0       0.0       0.0     0.0      0.0      0.0    0.0   \n",
       "\n",
       "   Xamarin  Unreal Engine  Apache Spark  Puppet  Chef  \n",
       "0      0.0            0.0           0.0     0.0   0.0  \n",
       "1      0.0            0.0           0.0     0.0   0.0  \n",
       "2      0.0            0.0           0.0     0.0   0.0  \n",
       "3      0.0            0.0           0.0     0.0   0.0  \n",
       "4      0.0            0.0           0.0     0.0   0.0  "
      ]
     },
     "execution_count": 16,
     "metadata": {},
     "output_type": "execute_result"
    }
   ],
   "source": [
    "misc_tech_features_df = df_extract_features(df, 'MiscTechWorkedWith')\n",
    "misc_tech_features_df.head()"
   ]
  },
  {
   "cell_type": "markdown",
   "id": "warming-sleeve",
   "metadata": {},
   "source": [
    "We extracted the relevant data from the source column ``MiscTechWorkedWith``. The Range here is very broad - from particular python frameworks like **pandas** and **keras**, to game development frameworks like **Unity 3D** to provisioning tools like **ansible**, **puppet** and **chef**.  "
   ]
  },
  {
   "cell_type": "code",
   "execution_count": 17,
   "id": "undefined-belize",
   "metadata": {},
   "outputs": [
    {
     "data": {
      "text/html": [
       "<div>\n",
       "<style scoped>\n",
       "    .dataframe tbody tr th:only-of-type {\n",
       "        vertical-align: middle;\n",
       "    }\n",
       "\n",
       "    .dataframe tbody tr th {\n",
       "        vertical-align: top;\n",
       "    }\n",
       "\n",
       "    .dataframe thead th {\n",
       "        text-align: right;\n",
       "    }\n",
       "</style>\n",
       "<table border=\"1\" class=\"dataframe\">\n",
       "  <thead>\n",
       "    <tr style=\"text-align: right;\">\n",
       "      <th></th>\n",
       "      <th>C#</th>\n",
       "      <th>HTML/CSS</th>\n",
       "      <th>JavaScript</th>\n",
       "      <th>Swift</th>\n",
       "      <th>Java</th>\n",
       "      <th>PHP</th>\n",
       "      <th>Python</th>\n",
       "      <th>SQL</th>\n",
       "      <th>C</th>\n",
       "      <th>TypeScript</th>\n",
       "      <th>...</th>\n",
       "      <th>C++</th>\n",
       "      <th>Go</th>\n",
       "      <th>Haskell</th>\n",
       "      <th>Ruby</th>\n",
       "      <th>Rust</th>\n",
       "      <th>Dart</th>\n",
       "      <th>Scala</th>\n",
       "      <th>Assembly</th>\n",
       "      <th>Objective-C</th>\n",
       "      <th>Julia</th>\n",
       "    </tr>\n",
       "  </thead>\n",
       "  <tbody>\n",
       "    <tr>\n",
       "      <th>0</th>\n",
       "      <td>1.0</td>\n",
       "      <td>1.0</td>\n",
       "      <td>1.0</td>\n",
       "      <td>0.0</td>\n",
       "      <td>0.0</td>\n",
       "      <td>0.0</td>\n",
       "      <td>0.0</td>\n",
       "      <td>0.0</td>\n",
       "      <td>0.0</td>\n",
       "      <td>0.0</td>\n",
       "      <td>...</td>\n",
       "      <td>0.0</td>\n",
       "      <td>0.0</td>\n",
       "      <td>0.0</td>\n",
       "      <td>0.0</td>\n",
       "      <td>0.0</td>\n",
       "      <td>0.0</td>\n",
       "      <td>0.0</td>\n",
       "      <td>0.0</td>\n",
       "      <td>0.0</td>\n",
       "      <td>0.0</td>\n",
       "    </tr>\n",
       "    <tr>\n",
       "      <th>1</th>\n",
       "      <td>0.0</td>\n",
       "      <td>0.0</td>\n",
       "      <td>1.0</td>\n",
       "      <td>1.0</td>\n",
       "      <td>0.0</td>\n",
       "      <td>0.0</td>\n",
       "      <td>0.0</td>\n",
       "      <td>0.0</td>\n",
       "      <td>0.0</td>\n",
       "      <td>0.0</td>\n",
       "      <td>...</td>\n",
       "      <td>0.0</td>\n",
       "      <td>0.0</td>\n",
       "      <td>0.0</td>\n",
       "      <td>0.0</td>\n",
       "      <td>0.0</td>\n",
       "      <td>0.0</td>\n",
       "      <td>0.0</td>\n",
       "      <td>0.0</td>\n",
       "      <td>0.0</td>\n",
       "      <td>0.0</td>\n",
       "    </tr>\n",
       "    <tr>\n",
       "      <th>2</th>\n",
       "      <td>0.0</td>\n",
       "      <td>0.0</td>\n",
       "      <td>0.0</td>\n",
       "      <td>0.0</td>\n",
       "      <td>0.0</td>\n",
       "      <td>0.0</td>\n",
       "      <td>0.0</td>\n",
       "      <td>0.0</td>\n",
       "      <td>0.0</td>\n",
       "      <td>0.0</td>\n",
       "      <td>...</td>\n",
       "      <td>0.0</td>\n",
       "      <td>0.0</td>\n",
       "      <td>0.0</td>\n",
       "      <td>0.0</td>\n",
       "      <td>0.0</td>\n",
       "      <td>0.0</td>\n",
       "      <td>0.0</td>\n",
       "      <td>0.0</td>\n",
       "      <td>0.0</td>\n",
       "      <td>0.0</td>\n",
       "    </tr>\n",
       "    <tr>\n",
       "      <th>3</th>\n",
       "      <td>0.0</td>\n",
       "      <td>1.0</td>\n",
       "      <td>1.0</td>\n",
       "      <td>0.0</td>\n",
       "      <td>1.0</td>\n",
       "      <td>0.0</td>\n",
       "      <td>0.0</td>\n",
       "      <td>0.0</td>\n",
       "      <td>0.0</td>\n",
       "      <td>0.0</td>\n",
       "      <td>...</td>\n",
       "      <td>0.0</td>\n",
       "      <td>0.0</td>\n",
       "      <td>0.0</td>\n",
       "      <td>0.0</td>\n",
       "      <td>0.0</td>\n",
       "      <td>0.0</td>\n",
       "      <td>0.0</td>\n",
       "      <td>0.0</td>\n",
       "      <td>0.0</td>\n",
       "      <td>0.0</td>\n",
       "    </tr>\n",
       "    <tr>\n",
       "      <th>4</th>\n",
       "      <td>1.0</td>\n",
       "      <td>1.0</td>\n",
       "      <td>0.0</td>\n",
       "      <td>0.0</td>\n",
       "      <td>0.0</td>\n",
       "      <td>1.0</td>\n",
       "      <td>0.0</td>\n",
       "      <td>0.0</td>\n",
       "      <td>0.0</td>\n",
       "      <td>0.0</td>\n",
       "      <td>...</td>\n",
       "      <td>0.0</td>\n",
       "      <td>0.0</td>\n",
       "      <td>0.0</td>\n",
       "      <td>0.0</td>\n",
       "      <td>0.0</td>\n",
       "      <td>0.0</td>\n",
       "      <td>0.0</td>\n",
       "      <td>0.0</td>\n",
       "      <td>0.0</td>\n",
       "      <td>0.0</td>\n",
       "    </tr>\n",
       "  </tbody>\n",
       "</table>\n",
       "<p>5 rows × 25 columns</p>\n",
       "</div>"
      ],
      "text/plain": [
       "    C#  HTML/CSS  JavaScript  Swift  Java  PHP  Python  SQL    C  TypeScript  \\\n",
       "0  1.0       1.0         1.0    0.0   0.0  0.0     0.0  0.0  0.0         0.0   \n",
       "1  0.0       0.0         1.0    1.0   0.0  0.0     0.0  0.0  0.0         0.0   \n",
       "2  0.0       0.0         0.0    0.0   0.0  0.0     0.0  0.0  0.0         0.0   \n",
       "3  0.0       1.0         1.0    0.0   1.0  0.0     0.0  0.0  0.0         0.0   \n",
       "4  1.0       1.0         0.0    0.0   0.0  1.0     0.0  0.0  0.0         0.0   \n",
       "\n",
       "   ...  C++   Go  Haskell  Ruby  Rust  Dart  Scala  Assembly  Objective-C  \\\n",
       "0  ...  0.0  0.0      0.0   0.0   0.0   0.0    0.0       0.0          0.0   \n",
       "1  ...  0.0  0.0      0.0   0.0   0.0   0.0    0.0       0.0          0.0   \n",
       "2  ...  0.0  0.0      0.0   0.0   0.0   0.0    0.0       0.0          0.0   \n",
       "3  ...  0.0  0.0      0.0   0.0   0.0   0.0    0.0       0.0          0.0   \n",
       "4  ...  0.0  0.0      0.0   0.0   0.0   0.0    0.0       0.0          0.0   \n",
       "\n",
       "   Julia  \n",
       "0    0.0  \n",
       "1    0.0  \n",
       "2    0.0  \n",
       "3    0.0  \n",
       "4    0.0  \n",
       "\n",
       "[5 rows x 25 columns]"
      ]
     },
     "execution_count": 17,
     "metadata": {},
     "output_type": "execute_result"
    }
   ],
   "source": [
    "language_features_df = df_extract_features(df, 'LanguageWorkedWith')\n",
    "language_features_df.head()"
   ]
  },
  {
   "cell_type": "code",
   "execution_count": 18,
   "id": "arranged-chrome",
   "metadata": {},
   "outputs": [
    {
     "data": {
      "text/plain": [
       "25"
      ]
     },
     "execution_count": 18,
     "metadata": {},
     "output_type": "execute_result"
    }
   ],
   "source": [
    "len(language_features_df.columns)"
   ]
  },
  {
   "cell_type": "markdown",
   "id": "stainless-aurora",
   "metadata": {},
   "source": [
    "And finally here we have all Programming languages that where part of the survey and got converted into a binary feature dataframe. This is the only dataset that gets dotted out as their are 25 total columns- not fitting on the screen."
   ]
  },
  {
   "cell_type": "markdown",
   "id": "related-polymer",
   "metadata": {},
   "source": [
    "## Section 4: Data Modeling\n",
    "### Binary Classification"
   ]
  },
  {
   "cell_type": "markdown",
   "id": "emerging-booking",
   "metadata": {},
   "source": [
    "We will be using two different approaches to predict the job salutation. The first approach is to use see this problem as a binary classification problem, using the values from our (new) created column ``Very satisfied`` as label."
   ]
  },
  {
   "cell_type": "code",
   "execution_count": 19,
   "id": "adverse-morgan",
   "metadata": {},
   "outputs": [],
   "source": [
    "def df_to_binary_labels(df):\n",
    "    '''\n",
    "    Convert a dataframe with the column \"Very satisfied\" to a binary form.\n",
    "    \n",
    "    :param df: (pd.DataFrame) The DataFrame that have the data to be converted to binary labels\n",
    "    :returns: (list[int]) 0/1 represantation of the column\n",
    "    \n",
    "    Example:\n",
    "    >>> df_to_binary_labels(pd.DataFrame([{'Very satisfied': 1}, {'Very satisfied': 0}]))\n",
    "    [{'label': 1}, {'label': 0}]\n",
    "    '''\n",
    "\n",
    "    records = []\n",
    "    for index, row in df.iterrows():\n",
    "        records.append({\"label\": row['Very satisfied']})\n",
    "        \n",
    "    return records"
   ]
  },
  {
   "cell_type": "code",
   "execution_count": 20,
   "id": "supreme-conditions",
   "metadata": {},
   "outputs": [],
   "source": [
    "binary_y = pd.DataFrame(df_to_binary_labels(job_satisfaction_df))"
   ]
  },
  {
   "cell_type": "code",
   "execution_count": 21,
   "id": "welcome-bumper",
   "metadata": {},
   "outputs": [],
   "source": [
    "X = pd.concat([platform_features_df, misc_tech_features_df, language_features_df], axis=1, join='inner')"
   ]
  },
  {
   "cell_type": "markdown",
   "id": "younger-simpson",
   "metadata": {},
   "source": [
    "We combine every constructed dataframe together, and use it as our input Matrix **X**"
   ]
  },
  {
   "cell_type": "code",
   "execution_count": 22,
   "id": "enhanced-connectivity",
   "metadata": {},
   "outputs": [
    {
     "data": {
      "text/plain": [
       "14611"
      ]
     },
     "execution_count": 22,
     "metadata": {},
     "output_type": "execute_result"
    }
   ],
   "source": [
    "len(binary_y[binary_y['label'] == 1])"
   ]
  },
  {
   "cell_type": "code",
   "execution_count": 23,
   "id": "dried-bridal",
   "metadata": {
    "scrolled": true
   },
   "outputs": [
    {
     "data": {
      "text/plain": [
       "30583"
      ]
     },
     "execution_count": 23,
     "metadata": {},
     "output_type": "execute_result"
    }
   ],
   "source": [
    "len(binary_y[binary_y['label'] == 0])"
   ]
  },
  {
   "cell_type": "markdown",
   "id": "weekly-breach",
   "metadata": {},
   "source": [
    "We have 14611 positive examples and 30583 negative examples."
   ]
  },
  {
   "cell_type": "code",
   "execution_count": 24,
   "id": "dedicated-velvet",
   "metadata": {},
   "outputs": [],
   "source": [
    "def fit_classifier(X: pd.DataFrame, y: pd.DataFrame) -> dict:\n",
    "    '''\n",
    "    Train a DecisionTree Model for a binary classification\n",
    "    \n",
    "    :param X: (pd.DataFrame) The DataFrame with the features\n",
    "    :param y: (pd.DataFrame) The DataFrame with the label\n",
    "    :returns: (dict) r2_score and confusion (matrix)\n",
    "    '''\n",
    "\n",
    "    X_train, X_test, y_train, y_test = train_test_split(X, y, test_size=0.20, random_state=42)\n",
    "    classifier = DecisionTreeClassifier()\n",
    "    classifier.fit(X_train, y_train)\n",
    "    y_pred_test = classifier.predict(X_test)\n",
    "    r2_test = r2_score(y_test, y_pred_test)\n",
    "    confusion = confusion_matrix(y_test, y_pred_test)\n",
    "    \n",
    "    y_pred_train = classifier.predict(X_train)\n",
    "    r2_train = r2_score(y_train, y_pred_train)\n",
    "    return {'r2_score_test': r2_test, 'confusion': confusion, 'r2_score_train': r2_train}\n",
    "   "
   ]
  },
  {
   "cell_type": "markdown",
   "id": "sticky-population",
   "metadata": {},
   "source": [
    "This function will be used to Training the model using a simple decision tree classifier."
   ]
  },
  {
   "cell_type": "code",
   "execution_count": 25,
   "id": "integral-serbia",
   "metadata": {},
   "outputs": [],
   "source": [
    "classification_result = fit_classifier(X, binary_y)"
   ]
  },
  {
   "cell_type": "code",
   "execution_count": 26,
   "id": "improving-picture",
   "metadata": {},
   "outputs": [
    {
     "data": {
      "text/plain": [
       "<AxesSubplot:>"
      ]
     },
     "execution_count": 26,
     "metadata": {},
     "output_type": "execute_result"
    },
    {
     "data": {
      "image/png": "[encoded data removed]",
      "text/plain": [
       "<Figure size 432x576 with 2 Axes>"
      ]
     },
     "metadata": {},
     "output_type": "display_data"
    }
   ],
   "source": [
    "sns.set(rc={'figure.figsize':(6,8)})\n",
    "sns.heatmap(\n",
    "    data=classification_result['confusion'],\n",
    "    square=True,\n",
    "    xticklabels=['True', 'False'],\n",
    "    yticklabels=['Negative','Positive']\n",
    ")\n"
   ]
  },
  {
   "cell_type": "markdown",
   "id": "governmental-approach",
   "metadata": {},
   "source": [
    "This is the (rotated) confusion matrix of our Model. The False column should have as less values as possible, bu that is not the case. "
   ]
  },
  {
   "cell_type": "markdown",
   "id": "emotional-commander",
   "metadata": {},
   "source": [
    "### Regression\n",
    "\n",
    "The second approach is to see the satisfaction as a range."
   ]
  },
  {
   "cell_type": "code",
   "execution_count": 27,
   "id": "preliminary-cruise",
   "metadata": {},
   "outputs": [],
   "source": [
    "def df_to_float_labels(df):\n",
    "    '''\n",
    "     Convert a dataframe with the columns to a float form for a regression model.\n",
    "     \n",
    "     :param df: (pd.DataFrame) The DataFrame that have the data to be converted to floating labels.\n",
    "     :returns: (list[int]) -2 to 2, inclusive, in 1 steps represantation of the column.\n",
    "     \n",
    "     Example:\n",
    "     >>> df_to_float_labels(  \\\n",
    "        pd.DataFrame( \\\n",
    "            [  \\\n",
    "                {'Very satisfied': 1},  \\\n",
    "                {'Slightly satisfied': 1},  \\\n",
    "                {'Neither satisfied nor dissatisfied': 1},  \\\n",
    "                {'Slightly dissatisfied': 1},  \\\n",
    "                {'Very dissatisfied': 1} \\\n",
    "            ]  \\\n",
    "        )  \\\n",
    "    )\n",
    "    \n",
    "    [{'label': 2}, {'label': 1}, {'label': 0}, {'label': -1}, {'label': -2}]\n",
    "    '''\n",
    "    \n",
    "    records = []\n",
    "    for index, row in df.iterrows():\n",
    "        if row['Very satisfied'] == 1:\n",
    "            records.append({\"label\": 2})\n",
    "        elif row['Slightly satisfied'] == 1:\n",
    "            records.append({\"label\": 1})\n",
    "        elif row['Neither satisfied nor dissatisfied'] == 1:\n",
    "            records.append({\"label\": 0})\n",
    "        elif row['Slightly dissatisfied'] == 1:\n",
    "            records.append({\"label\": -1})\n",
    "        else: # Very dissatisfied\n",
    "            records.append({\"label\": -2})\n",
    "        \n",
    "    return records"
   ]
  },
  {
   "cell_type": "markdown",
   "id": "revised-vegetation",
   "metadata": {},
   "source": [
    " Each Level of satisfaction will get mapped to a float values from -2 upto +2 (inclusive)."
   ]
  },
  {
   "cell_type": "code",
   "execution_count": 28,
   "id": "endless-platform",
   "metadata": {},
   "outputs": [],
   "source": [
    "def fit_regression(X, y):\n",
    "    '''\n",
    "    Train a LinearRegression Model for a regression\n",
    "    \n",
    "    :param X: (pd.DataFrame) The DataFrame with the features\n",
    "    :param y: (pd.DataFrame) The DataFrame with the label\n",
    "    :returns: (dict) r2_score\n",
    "    '''\n",
    "    \n",
    "    X_train, X_test, y_train, y_test = train_test_split(X, y, test_size=0.20, random_state=42)\n",
    "    classifier = LinearRegression()\n",
    "    classifier.fit(X_train, y_train)\n",
    "    y_pred_test = classifier.predict(X_test)\n",
    "    r2_test = r2_score(y_test, y_pred_test)\n",
    "    \n",
    "    y_pred_train = classifier.predict(X_train)\n",
    "    r2_train = r2_score(y_train, y_pred_train)\n",
    "    return {'r2_score_test': r2_test, 'r2_score_train': r2_train}\n"
   ]
  },
  {
   "cell_type": "markdown",
   "id": "indirect-culture",
   "metadata": {},
   "source": [
    "We will be fiting a simple linear regression model here, using the test-train ration of 0.2 and 0.8. "
   ]
  },
  {
   "cell_type": "code",
   "execution_count": 29,
   "id": "cellular-species",
   "metadata": {},
   "outputs": [],
   "source": [
    "float_y = pd.DataFrame(df_to_float_labels(job_satisfaction_df))"
   ]
  },
  {
   "cell_type": "code",
   "execution_count": 30,
   "id": "protective-aruba",
   "metadata": {
    "scrolled": false
   },
   "outputs": [],
   "source": [
    "regression_result = fit_regression(X, float_y)"
   ]
  },
  {
   "cell_type": "markdown",
   "id": "anticipated-highlight",
   "metadata": {},
   "source": [
    "## Section 5: Evaluation\n",
    "### Question 1: What is the general job satisfaction, more positive or more negative?"
   ]
  },
  {
   "cell_type": "markdown",
   "id": "tamil-bulgarian",
   "metadata": {},
   "source": [
    "This can be answered by suming up the amount of each reponse in the `JobSat` column. I will be using here the \"exploded\" form I used for training the models "
   ]
  },
  {
   "cell_type": "code",
   "execution_count": 31,
   "id": "sufficient-moore",
   "metadata": {},
   "outputs": [],
   "source": [
    "def df_positive_columns(df: pd.DataFrame) -> pd.DataFrame:\n",
    "    '''\n",
    "    Return a dataframe with the number of positive examples (1\"s) for each column\n",
    "\n",
    "    :param df: (pd.DataFrame)  The DataFrame to analyse \n",
    "    :returns: (pd.DataFrame) The number of positives per column\n",
    "    \n",
    "    Example:\n",
    "    >>> df_positive_columns(pd.DataFrame([{'a': 0, 'b': 1}, {'a': 1, 'b': 0}]))\n",
    "    pd.DataFrame([{'a': 1, 'b': 1}])\n",
    "    '''\n",
    "    \n",
    "    result = {}\n",
    "    cols = df.columns\n",
    "    for index, row in df.iterrows():\n",
    "        for c in cols:\n",
    "            if c in result:\n",
    "                result[c] = result[c] + row[c]\n",
    "            else:\n",
    "                result[c] = row[c]\n",
    "    \n",
    "    return pd.DataFrame([result])"
   ]
  },
  {
   "cell_type": "code",
   "execution_count": 32,
   "id": "declared-retailer",
   "metadata": {},
   "outputs": [
    {
     "data": {
      "text/plain": [
       "{'Slightly satisfied': 13930.0,\n",
       " 'Very dissatisfied': 3746.0,\n",
       " 'Slightly dissatisfied': 7124.0,\n",
       " 'Very satisfied': 14611.0,\n",
       " 'Neither satisfied nor dissatisfied': 5783.0}"
      ]
     },
     "execution_count": 32,
     "metadata": {},
     "output_type": "execute_result"
    }
   ],
   "source": [
    "job_salutation_count_df = df_positive_columns(job_satisfaction_df)\n",
    "job_salutation_count_df.iloc[0].to_dict()"
   ]
  },
  {
   "cell_type": "markdown",
   "id": "pursuant-defeat",
   "metadata": {},
   "source": [
    "`Slightly satisfied` have a count of *13930* and `Very satisfied` have a count of *14611*, having a total of **28541**.\n",
    "\n",
    "I will ignore the `Neither satisfied nor dissatisfied` as we don't know if its positive or negative.\n",
    "\n",
    "`Slightly dissatisfied` have a count of *7124* and `Very dissatisfied` have a count of *3746*, having a total of **10870**.\n",
    "\n",
    "The majority of anwers given are more positive even when we would consider the option `Neither satisfied nor dissatisfied` as negative."
   ]
  },
  {
   "cell_type": "markdown",
   "id": "directed-grant",
   "metadata": {},
   "source": [
    "### Question 2: Is the job satisfaction correlated with some programming language, framework or platform?"
   ]
  },
  {
   "cell_type": "markdown",
   "id": "whole-cassette",
   "metadata": {},
   "source": [
    "#### Analyse platform"
   ]
  },
  {
   "cell_type": "code",
   "execution_count": 33,
   "id": "continental-faculty",
   "metadata": {},
   "outputs": [],
   "source": [
    "analyse_satisfaction_platform_df = pd.concat([job_satisfaction_df, platform_features_df],axis=1, join='inner')"
   ]
  },
  {
   "cell_type": "markdown",
   "id": "absent-qatar",
   "metadata": {},
   "source": [
    "for this analysis I merged constructed dataframe from job_salutation and platform together"
   ]
  },
  {
   "cell_type": "markdown",
   "id": "bizarre-partner",
   "metadata": {},
   "source": [
    "#### Visualisation platform"
   ]
  },
  {
   "cell_type": "code",
   "execution_count": 34,
   "id": "verbal-static",
   "metadata": {
    "scrolled": true
   },
   "outputs": [
    {
     "data": {
      "text/plain": [
       "<AxesSubplot:>"
      ]
     },
     "execution_count": 34,
     "metadata": {},
     "output_type": "execute_result"
    },
    {
     "data": {
      "image/png": "[encoded data removed]",
      "text/plain": [
       "<Figure size 432x576 with 2 Axes>"
      ]
     },
     "metadata": {},
     "output_type": "display_data"
    }
   ],
   "source": [
    "sns.heatmap(analyse_satisfaction_platform_df.corr(), vmin=0, vmax=1)"
   ]
  },
  {
   "cell_type": "markdown",
   "id": "expanded-wichita",
   "metadata": {},
   "source": [
    "Following platform indicate a positive relation:\n",
    "\n",
    "* Docker\n",
    "* Raspberry Pi\n",
    "* MacOS\n",
    "* Kubernetes\n",
    "* Slack\n",
    "* Microsoft Azure"
   ]
  },
  {
   "cell_type": "markdown",
   "id": "timely-bachelor",
   "metadata": {},
   "source": [
    "#### Analyse misc tech"
   ]
  },
  {
   "cell_type": "code",
   "execution_count": 35,
   "id": "paperback-equality",
   "metadata": {},
   "outputs": [],
   "source": [
    "analyse_satisfaction_platform_df = pd.concat([job_satisfaction_df, misc_tech_features_df],axis=1, join='inner')"
   ]
  },
  {
   "cell_type": "markdown",
   "id": "aging-patio",
   "metadata": {},
   "source": [
    "#### Visualisation misc tech"
   ]
  },
  {
   "cell_type": "code",
   "execution_count": 36,
   "id": "useful-ability",
   "metadata": {
    "scrolled": true
   },
   "outputs": [
    {
     "data": {
      "text/plain": [
       "<AxesSubplot:>"
      ]
     },
     "execution_count": 36,
     "metadata": {},
     "output_type": "execute_result"
    },
    {
     "data": {
      "image/png": "[encoded data removed]",
      "text/plain": [
       "<Figure size 432x576 with 2 Axes>"
      ]
     },
     "metadata": {},
     "output_type": "display_data"
    }
   ],
   "source": [
    "sns.heatmap(analyse_satisfaction_platform_df.corr(), vmin=0, vmax=1)"
   ]
  },
  {
   "cell_type": "markdown",
   "id": "designed-farming",
   "metadata": {},
   "source": [
    "Only the Technology **Terraform** have a bit of a positive influence. The other have non or only so small that its barly visible in the heatmap."
   ]
  },
  {
   "cell_type": "markdown",
   "id": "mobile-business",
   "metadata": {},
   "source": [
    "#### Analyse Language"
   ]
  },
  {
   "cell_type": "code",
   "execution_count": 37,
   "id": "frozen-columbus",
   "metadata": {},
   "outputs": [],
   "source": [
    "analyse_satisfaction_language_df = pd.concat([job_satisfaction_df, language_features_df],axis=1, join='inner')"
   ]
  },
  {
   "cell_type": "code",
   "execution_count": 38,
   "id": "recognized-assignment",
   "metadata": {},
   "outputs": [
    {
     "data": {
      "text/plain": [
       "<AxesSubplot:>"
      ]
     },
     "execution_count": 38,
     "metadata": {},
     "output_type": "execute_result"
    },
    {
     "data": {
      "image/png": "[encoded data removed]",
      "text/plain": [
       "<Figure size 432x576 with 2 Axes>"
      ]
     },
     "metadata": {},
     "output_type": "display_data"
    }
   ],
   "source": [
    "sns.heatmap(analyse_satisfaction_language_df.corr(), vmin=0, vmax=1)"
   ]
  },
  {
   "cell_type": "markdown",
   "id": "integrated-journey",
   "metadata": {},
   "source": [
    "Happy to know: **Python**, **Typescript** and **Bash/Shell/Powershell** show a positive correlation with the job salutation.\n",
    "\n",
    "But the boxes are only a little bit brigter than the surrounding ones, sometimes you can't event see them directly."
   ]
  },
  {
   "cell_type": "markdown",
   "id": "special-barrier",
   "metadata": {},
   "source": [
    "### Question 3: Are we able to predict a job satisfaction based on this data?"
   ]
  },
  {
   "cell_type": "code",
   "execution_count": 39,
   "id": "funky-compatibility",
   "metadata": {},
   "outputs": [
    {
     "data": {
      "text/plain": [
       "0.7115295113914506"
      ]
     },
     "execution_count": 39,
     "metadata": {},
     "output_type": "execute_result"
    }
   ],
   "source": [
    "classification_result['r2_score_train']"
   ]
  },
  {
   "cell_type": "markdown",
   "id": "demanding-solomon",
   "metadata": {},
   "source": [
    "From the first look, the r2 on the train data looks promising, but..."
   ]
  },
  {
   "cell_type": "code",
   "execution_count": 40,
   "id": "living-crossing",
   "metadata": {},
   "outputs": [
    {
     "data": {
      "text/plain": [
       "-0.969936906341829"
      ]
     },
     "execution_count": 40,
     "metadata": {},
     "output_type": "execute_result"
    }
   ],
   "source": [
    "classification_result['r2_score_test']"
   ]
  },
  {
   "cell_type": "markdown",
   "id": "antique-finder",
   "metadata": {},
   "source": [
    "On the Test Set, we have a r2 score of *-0,96* - given that the general range is from minus infinity to 0 for a \"bad\" model and 1 for a perfect model, this model don't perform on the data available."
   ]
  },
  {
   "cell_type": "code",
   "execution_count": 41,
   "id": "foreign-charger",
   "metadata": {},
   "outputs": [
    {
     "data": {
      "text/plain": [
       "0.008266392789718635"
      ]
     },
     "execution_count": 41,
     "metadata": {},
     "output_type": "execute_result"
    }
   ],
   "source": [
    "regression_result['r2_score_train']"
   ]
  },
  {
   "cell_type": "code",
   "execution_count": 42,
   "id": "authorized-continent",
   "metadata": {},
   "outputs": [
    {
     "data": {
      "text/plain": [
       "0.006006631861843692"
      ]
     },
     "execution_count": 42,
     "metadata": {},
     "output_type": "execute_result"
    }
   ],
   "source": [
    "regression_result['r2_score_test']"
   ]
  },
  {
   "cell_type": "markdown",
   "id": "strong-greeting",
   "metadata": {},
   "source": [
    "Sad for the second modelling approach, we have both on train and on the test set very low scores. They are better than using classification, but far away from a good model.\n",
    "\n",
    "We are **not** able to predict the job satisfaction based on the analysed data."
   ]
  },
  {
   "cell_type": "markdown",
   "id": "arranged-links",
   "metadata": {},
   "source": [
    "# Header Image"
   ]
  },
  {
   "cell_type": "code",
   "execution_count": 43,
   "id": "controlling-graduate",
   "metadata": {},
   "outputs": [
    {
     "data": {
      "text/plain": [
       "<AxesSubplot:>"
      ]
     },
     "execution_count": 43,
     "metadata": {},
     "output_type": "execute_result"
    },
    {
     "data": {
      "image/png": "[encoded data removed]",
      "text/plain": [
       "<Figure size 1080x720 with 2 Axes>"
      ]
     },
     "metadata": {},
     "output_type": "display_data"
    }
   ],
   "source": [
    "sns.set(rc={'figure.figsize':(15,10)})\n",
    "sns.heatmap(X.corr(), vmin=0, vmax=1)"
   ]
  },
  {
   "cell_type": "code",
   "execution_count": null,
   "id": "fluid-piece",
   "metadata": {},
   "outputs": [],
   "source": []
  }
 ],
 "metadata": {
  "kernelspec": {
   "display_name": "Python 3",
   "language": "python",
   "name": "python3"
  },
  "language_info": {
   "codemirror_mode": {
    "name": "ipython",
    "version": 3
   },
   "file_extension": ".py",
   "mimetype": "text/x-python",
   "name": "python",
   "nbconvert_exporter": "python",
   "pygments_lexer": "ipython3",
   "version": "3.9.2"
  }
 },
 "nbformat": 4,
 "nbformat_minor": 5
}
